{
  "nbformat": 4,
  "nbformat_minor": 0,
  "metadata": {
    "colab": {
      "name": "Untitled1.ipynb",
      "version": "0.3.2",
      "provenance": [],
      "collapsed_sections": [],
      "include_colab_link": true
    },
    "kernelspec": {
      "name": "python3",
      "display_name": "Python 3"
    },
    "accelerator": "GPU"
  },
  "cells": [
    {
      "cell_type": "markdown",
      "metadata": {
        "id": "view-in-github",
        "colab_type": "text"
      },
      "source": [
        "<a href=\"https://colab.research.google.com/github/Kyon0000/Google-Colaboratory/blob/master/learning-to-See-in%20-the-Dark_test.ipynb\" target=\"_parent\"><img src=\"https://colab.research.google.com/assets/colab-badge.svg\" alt=\"Open In Colab\"/></a>"
      ]
    },
    {
      "metadata": {
        "id": "A3AAhpv2YnAS",
        "colab_type": "code",
        "outputId": "1ad10ffa-331b-46f4-884c-18f83ca6362e",
        "colab": {
          "base_uri": "https://localhost:8080/",
          "height": 122
        }
      },
      "cell_type": "code",
      "source": [
        "from google.colab import drive\n",
        "drive.mount('/content/drive')"
      ],
      "execution_count": 1,
      "outputs": [
        {
          "output_type": "stream",
          "text": [
            "Go to this URL in a browser: https://accounts.google.com/o/oauth2/auth?client_id=947318989803-6bn6qk8qdgf4n4g3pfee6491hc0brc4i.apps.googleusercontent.com&redirect_uri=urn%3Aietf%3Awg%3Aoauth%3A2.0%3Aoob&scope=email%20https%3A%2F%2Fwww.googleapis.com%2Fauth%2Fdocs.test%20https%3A%2F%2Fwww.googleapis.com%2Fauth%2Fdrive%20https%3A%2F%2Fwww.googleapis.com%2Fauth%2Fdrive.photos.readonly%20https%3A%2F%2Fwww.googleapis.com%2Fauth%2Fpeopleapi.readonly&response_type=code\n",
            "\n",
            "Enter your authorization code:\n",
            "··········\n",
            "Mounted at /content/drive\n"
          ],
          "name": "stdout"
        }
      ]
    },
    {
      "metadata": {
        "id": "gcGVpE0r7V8z",
        "colab_type": "code",
        "outputId": "de49bd7d-fef3-42be-a0f6-13c0cc6f0e48",
        "colab": {
          "base_uri": "https://localhost:8080/",
          "height": 34
        }
      },
      "cell_type": "code",
      "source": [
        "\n",
        "%cd drive/My\\ Drive\n"
      ],
      "execution_count": 2,
      "outputs": [
        {
          "output_type": "stream",
          "text": [
            "/content/drive/My Drive\n"
          ],
          "name": "stdout"
        }
      ]
    },
    {
      "metadata": {
        "id": "XIPtHXI58tXj",
        "colab_type": "code",
        "outputId": "03912f40-8ae0-4010-bd9a-3d9de3af1507",
        "colab": {
          "base_uri": "https://localhost:8080/",
          "height": 34
        }
      },
      "cell_type": "code",
      "source": [
        "%cd Learning-to-See-in-the-Dark/"
      ],
      "execution_count": 3,
      "outputs": [
        {
          "output_type": "stream",
          "text": [
            "/content/drive/My Drive/Learning-to-See-in-the-Dark\n"
          ],
          "name": "stdout"
        }
      ]
    },
    {
      "metadata": {
        "id": "YK6gU6Ddrw6C",
        "colab_type": "code",
        "colab": {
          "base_uri": "https://localhost:8080/",
          "height": 34
        },
        "outputId": "f0caee92-9e74-4569-fad4-230dc64ab79f"
      },
      "cell_type": "code",
      "source": [
        "import numpy\n",
        "intinfo = numpy.iinfo(int)\n",
        "numpy.random.randint(-1, intinfo.max)\n",
        "numpy.random.randint(intinfo.min, intinfo.max)"
      ],
      "execution_count": 10,
      "outputs": [
        {
          "output_type": "execute_result",
          "data": {
            "text/plain": [
              "7926103671777771425"
            ]
          },
          "metadata": {
            "tags": []
          },
          "execution_count": 10
        }
      ]
    },
    {
      "metadata": {
        "id": "NLcX1lJ7DDem",
        "colab_type": "code",
        "colab": {}
      },
      "cell_type": "code",
      "source": [
        "!pip install Tensorflow Scipy Numpy Rawpy"
      ],
      "execution_count": 0,
      "outputs": []
    },
    {
      "metadata": {
        "id": "zJlOY3gScgmK",
        "colab_type": "code",
        "colab": {}
      },
      "cell_type": "code",
      "source": [
        "!python train_Sony.py"
      ],
      "execution_count": 0,
      "outputs": []
    },
    {
      "metadata": {
        "id": "oyOqRXGs33H1",
        "colab_type": "code",
        "colab": {
          "base_uri": "https://localhost:8080/",
          "height": 51
        },
        "outputId": "2be74723-5027-416c-8a7a-1ff9b4a0133e"
      },
      "cell_type": "code",
      "source": [
        "!python download_models.py"
      ],
      "execution_count": 19,
      "outputs": [
        {
          "output_type": "stream",
          "text": [
            "Dowloading Sony Model (84Mb)\n",
            "Dowloading Fuji Model (84Mb)\n"
          ],
          "name": "stdout"
        }
      ]
    },
    {
      "metadata": {
        "id": "l8K7vqWjaZZJ",
        "colab_type": "code",
        "outputId": "674c8aba-b124-40f4-9503-afcb1fe09b40",
        "colab": {
          "base_uri": "https://localhost:8080/",
          "height": 241
        }
      },
      "cell_type": "code",
      "source": [
        "!python test_Fuji.py"
      ],
      "execution_count": 21,
      "outputs": [
        {
          "output_type": "stream",
          "text": [
            "2018-12-16 08:02:12.003586: I tensorflow/stream_executor/cuda/cuda_gpu_executor.cc:964] successful NUMA node read from SysFS had negative value (-1), but there must be at least one NUMA node, so returning NUMA node zero\n",
            "2018-12-16 08:02:12.004067: I tensorflow/core/common_runtime/gpu/gpu_device.cc:1432] Found device 0 with properties: \n",
            "name: Tesla K80 major: 3 minor: 7 memoryClockRate(GHz): 0.8235\n",
            "pciBusID: 0000:00:04.0\n",
            "totalMemory: 11.17GiB freeMemory: 11.10GiB\n",
            "2018-12-16 08:02:12.004112: I tensorflow/core/common_runtime/gpu/gpu_device.cc:1511] Adding visible gpu devices: 0\n",
            "2018-12-16 08:02:12.429486: I tensorflow/core/common_runtime/gpu/gpu_device.cc:982] Device interconnect StreamExecutor with strength 1 edge matrix:\n",
            "2018-12-16 08:02:12.429573: I tensorflow/core/common_runtime/gpu/gpu_device.cc:988]      0 \n",
            "2018-12-16 08:02:12.429613: I tensorflow/core/common_runtime/gpu/gpu_device.cc:1001] 0:   N \n",
            "2018-12-16 08:02:12.429969: W tensorflow/core/common_runtime/gpu/gpu_bfc_allocator.cc:42] Overriding allow_growth setting because the TF_FORCE_GPU_ALLOW_GROWTH environment variable is set. Original config value was 0.\n",
            "2018-12-16 08:02:12.430074: I tensorflow/core/common_runtime/gpu/gpu_device.cc:1115] Created TensorFlow device (/job:localhost/replica:0/task:0/device:GPU:0 with 10758 MB memory) -> physical GPU (device: 0, name: Tesla K80, pci bus id: 0000:00:04.0, compute capability: 3.7)\n",
            "loaded ./checkpoint/Fuji/model.ckpt\n"
          ],
          "name": "stdout"
        }
      ]
    },
    {
      "metadata": {
        "id": "DuaypB7wCrdN",
        "colab_type": "code",
        "colab": {
          "base_uri": "https://localhost:8080/",
          "height": 1822
        },
        "outputId": "a2001ef6-b488-4cad-9d41-4a87a531ae0e"
      },
      "cell_type": "code",
      "source": [
        "!python test_Sony.py"
      ],
      "execution_count": 20,
      "outputs": [
        {
          "output_type": "stream",
          "text": [
            "2018-12-16 07:17:10.574585: I tensorflow/stream_executor/cuda/cuda_gpu_executor.cc:964] successful NUMA node read from SysFS had negative value (-1), but there must be at least one NUMA node, so returning NUMA node zero\n",
            "2018-12-16 07:17:10.575075: I tensorflow/core/common_runtime/gpu/gpu_device.cc:1432] Found device 0 with properties: \n",
            "name: Tesla K80 major: 3 minor: 7 memoryClockRate(GHz): 0.8235\n",
            "pciBusID: 0000:00:04.0\n",
            "totalMemory: 11.17GiB freeMemory: 11.10GiB\n",
            "2018-12-16 07:17:10.575121: I tensorflow/core/common_runtime/gpu/gpu_device.cc:1511] Adding visible gpu devices: 0\n",
            "2018-12-16 07:17:11.002485: I tensorflow/core/common_runtime/gpu/gpu_device.cc:982] Device interconnect StreamExecutor with strength 1 edge matrix:\n",
            "2018-12-16 07:17:11.002554: I tensorflow/core/common_runtime/gpu/gpu_device.cc:988]      0 \n",
            "2018-12-16 07:17:11.002593: I tensorflow/core/common_runtime/gpu/gpu_device.cc:1001] 0:   N \n",
            "2018-12-16 07:17:11.002878: W tensorflow/core/common_runtime/gpu/gpu_bfc_allocator.cc:42] Overriding allow_growth setting because the TF_FORCE_GPU_ALLOW_GROWTH environment variable is set. Original config value was 0.\n",
            "2018-12-16 07:17:11.002980: I tensorflow/core/common_runtime/gpu/gpu_device.cc:1115] Created TensorFlow device (/job:localhost/replica:0/task:0/device:GPU:0 with 10758 MB memory) -> physical GPU (device: 0, name: Tesla K80, pci bus id: 0000:00:04.0, compute capability: 3.7)\n",
            "loaded ./checkpoint/Sony/model.ckpt\n",
            "10093_00_0.1s.ARW\n",
            "10074_00_0.1s.ARW\n",
            "10077_00_0.1s.ARW\n",
            "10082_00_0.1s.ARW\n",
            "10087_00_0.1s.ARW\n",
            "10101_00_0.1s.ARW\n",
            "10103_00_0.1s.ARW\n",
            "10105_00_0.1s.ARW\n",
            "10106_00_0.1s.ARW\n",
            "10111_00_0.1s.ARW\n",
            "10116_00_0.1s.ARW\n",
            "10125_00_0.1s.ARW\n",
            "10126_00_0.1s.ARW\n",
            "10139_00_0.1s.ARW\n",
            "10140_00_0.1s.ARW\n",
            "10162_00_0.1s.ARW\n",
            "10163_00_0.1s.ARW\n",
            "10167_00_0.1s.ARW\n",
            "10170_00_0.1s.ARW\n",
            "10172_00_0.1s.ARW\n",
            "10176_00_0.1s.ARW\n",
            "10003_00_0.1s.ARW\n",
            "10003_00_0.04s.ARW\n",
            "10006_00_0.1s.ARW\n",
            "10006_00_0.04s.ARW\n",
            "10011_00_0.1s.ARW\n",
            "10011_00_0.04s.ARW\n",
            "10016_00_0.1s.ARW\n",
            "10016_00_0.04s.ARW\n",
            "10022_00_0.1s.ARW\n",
            "10022_00_0.04s.ARW\n",
            "10030_00_0.1s.ARW\n",
            "10030_00_0.04s.ARW\n",
            "10032_00_0.1s.ARW\n",
            "10032_00_0.04s.ARW\n",
            "10034_00_0.1s.ARW\n",
            "10034_00_0.04s.ARW\n",
            "10035_00_0.1s.ARW\n",
            "10035_00_0.04s.ARW\n",
            "10040_00_0.1s.ARW\n",
            "10040_00_0.04s.ARW\n",
            "10045_00_0.1s.ARW\n",
            "10045_00_0.04s.ARW\n",
            "10054_00_0.1s.ARW\n",
            "10054_00_0.04s.ARW\n",
            "10055_00_0.1s.ARW\n",
            "10055_00_0.04s.ARW\n",
            "10068_00_0.1s.ARW\n",
            "10068_00_0.04s.ARW\n",
            "10069_00_0.1s.ARW\n",
            "10069_00_0.04s.ARW\n",
            "10178_00_0.1s.ARW\n",
            "10178_00_0.04s.ARW\n",
            "10178_00_0.033s.ARW\n",
            "10185_00_0.1s.ARW\n",
            "10185_00_0.04s.ARW\n",
            "10185_00_0.033s.ARW\n",
            "10187_00_0.1s.ARW\n",
            "10187_00_0.04s.ARW\n",
            "10187_00_0.033s.ARW\n",
            "10191_00_0.1s.ARW\n",
            "10191_00_0.04s.ARW\n",
            "10191_00_0.033s.ARW\n",
            "10192_00_0.1s.ARW\n",
            "10192_00_0.04s.ARW\n",
            "10192_00_0.033s.ARW\n",
            "10193_00_0.1s.ARW\n",
            "10193_00_0.04s.ARW\n",
            "10193_00_0.033s.ARW\n",
            "10198_00_0.1s.ARW\n",
            "10198_00_0.04s.ARW\n",
            "10198_00_0.033s.ARW\n",
            "10199_00_0.1s.ARW\n",
            "10199_00_0.04s.ARW\n",
            "10199_00_0.033s.ARW\n",
            "10203_00_0.1s.ARW\n",
            "10203_00_0.04s.ARW\n",
            "10203_00_0.033s.ARW\n",
            "10213_00_0.1s.ARW\n",
            "10213_00_0.04s.ARW\n",
            "10213_00_0.033s.ARW\n",
            "10217_00_0.1s.ARW\n",
            "10217_00_0.04s.ARW\n",
            "10217_00_0.033s.ARW\n",
            "10226_00_0.1s.ARW\n",
            "10226_00_0.04s.ARW\n",
            "10226_00_0.033s.ARW\n",
            "10227_00_0.1s.ARW\n",
            "10227_00_0.04s.ARW\n",
            "10227_00_0.033s.ARW\n",
            "10228_00_0.1s.ARW\n",
            "10228_00_0.04s.ARW\n",
            "10228_00_0.033s.ARW\n"
          ],
          "name": "stdout"
        }
      ]
    },
    {
      "metadata": {
        "id": "4osHa1ElCw3D",
        "colab_type": "code",
        "colab": {
          "base_uri": "https://localhost:8080/",
          "height": 1598
        },
        "outputId": "d8bec620-d758-4d8f-89f6-a24a96be409e"
      },
      "cell_type": "code",
      "source": [
        "!ls result_Sony/final"
      ],
      "execution_count": 22,
      "outputs": [
        {
          "output_type": "stream",
          "text": [
            "10003_00_100_gt.png\t10077_00_300_gt.png\t10191_00_300_gt.png\n",
            "10003_00_100_out.png\t10077_00_300_out.png\t10191_00_300_out.png\n",
            "10003_00_100_scale.png\t10077_00_300_scale.png\t10191_00_300_scale.png\n",
            "10003_00_250_gt.png\t10082_00_300_gt.png\t10192_00_100_gt.png\n",
            "10003_00_250_out.png\t10082_00_300_out.png\t10192_00_100_out.png\n",
            "10003_00_250_scale.png\t10082_00_300_scale.png\t10192_00_100_scale.png\n",
            "10006_00_100_gt.png\t10087_00_300_gt.png\t10192_00_250_gt.png\n",
            "10006_00_100_out.png\t10087_00_300_out.png\t10192_00_250_out.png\n",
            "10006_00_100_scale.png\t10087_00_300_scale.png\t10192_00_250_scale.png\n",
            "10006_00_250_gt.png\t10093_00_300_gt.png\t10192_00_300_gt.png\n",
            "10006_00_250_out.png\t10093_00_300_out.png\t10192_00_300_out.png\n",
            "10006_00_250_scale.png\t10093_00_300_scale.png\t10192_00_300_scale.png\n",
            "10011_00_100_gt.png\t10101_00_300_gt.png\t10193_00_100_gt.png\n",
            "10011_00_100_out.png\t10101_00_300_out.png\t10193_00_100_out.png\n",
            "10011_00_100_scale.png\t10101_00_300_scale.png\t10193_00_100_scale.png\n",
            "10011_00_250_gt.png\t10103_00_300_gt.png\t10193_00_250_gt.png\n",
            "10011_00_250_out.png\t10103_00_300_out.png\t10193_00_250_out.png\n",
            "10011_00_250_scale.png\t10103_00_300_scale.png\t10193_00_250_scale.png\n",
            "10016_00_100_gt.png\t10105_00_300_gt.png\t10193_00_300_gt.png\n",
            "10016_00_100_out.png\t10105_00_300_out.png\t10193_00_300_out.png\n",
            "10016_00_100_scale.png\t10105_00_300_scale.png\t10193_00_300_scale.png\n",
            "10016_00_250_gt.png\t10106_00_300_gt.png\t10198_00_100_gt.png\n",
            "10016_00_250_out.png\t10106_00_300_out.png\t10198_00_100_out.png\n",
            "10016_00_250_scale.png\t10106_00_300_scale.png\t10198_00_100_scale.png\n",
            "10022_00_100_gt.png\t10111_00_300_gt.png\t10198_00_250_gt.png\n",
            "10022_00_100_out.png\t10111_00_300_out.png\t10198_00_250_out.png\n",
            "10022_00_100_scale.png\t10111_00_300_scale.png\t10198_00_250_scale.png\n",
            "10022_00_250_gt.png\t10116_00_300_gt.png\t10198_00_300_gt.png\n",
            "10022_00_250_out.png\t10116_00_300_out.png\t10198_00_300_out.png\n",
            "10022_00_250_scale.png\t10116_00_300_scale.png\t10198_00_300_scale.png\n",
            "10030_00_100_gt.png\t10125_00_300_gt.png\t10199_00_100_gt.png\n",
            "10030_00_100_out.png\t10125_00_300_out.png\t10199_00_100_out.png\n",
            "10030_00_100_scale.png\t10125_00_300_scale.png\t10199_00_100_scale.png\n",
            "10030_00_250_gt.png\t10126_00_300_gt.png\t10199_00_250_gt.png\n",
            "10030_00_250_out.png\t10126_00_300_out.png\t10199_00_250_out.png\n",
            "10030_00_250_scale.png\t10126_00_300_scale.png\t10199_00_250_scale.png\n",
            "10032_00_100_gt.png\t10139_00_300_gt.png\t10199_00_300_gt.png\n",
            "10032_00_100_out.png\t10139_00_300_out.png\t10199_00_300_out.png\n",
            "10032_00_100_scale.png\t10139_00_300_scale.png\t10199_00_300_scale.png\n",
            "10032_00_250_gt.png\t10140_00_300_gt.png\t10203_00_100_gt.png\n",
            "10032_00_250_out.png\t10140_00_300_out.png\t10203_00_100_out.png\n",
            "10032_00_250_scale.png\t10140_00_300_scale.png\t10203_00_100_scale.png\n",
            "10034_00_100_gt.png\t10162_00_300_gt.png\t10203_00_250_gt.png\n",
            "10034_00_100_out.png\t10162_00_300_out.png\t10203_00_250_out.png\n",
            "10034_00_100_scale.png\t10162_00_300_scale.png\t10203_00_250_scale.png\n",
            "10034_00_250_gt.png\t10163_00_300_gt.png\t10203_00_300_gt.png\n",
            "10034_00_250_out.png\t10163_00_300_out.png\t10203_00_300_out.png\n",
            "10034_00_250_scale.png\t10163_00_300_scale.png\t10203_00_300_scale.png\n",
            "10035_00_100_gt.png\t10167_00_300_gt.png\t10213_00_100_gt.png\n",
            "10035_00_100_out.png\t10167_00_300_out.png\t10213_00_100_out.png\n",
            "10035_00_100_scale.png\t10167_00_300_scale.png\t10213_00_100_scale.png\n",
            "10035_00_250_gt.png\t10170_00_300_gt.png\t10213_00_250_gt.png\n",
            "10035_00_250_out.png\t10170_00_300_out.png\t10213_00_250_out.png\n",
            "10035_00_250_scale.png\t10170_00_300_scale.png\t10213_00_250_scale.png\n",
            "10040_00_100_gt.png\t10172_00_300_gt.png\t10213_00_300_gt.png\n",
            "10040_00_100_out.png\t10172_00_300_out.png\t10213_00_300_out.png\n",
            "10040_00_100_scale.png\t10172_00_300_scale.png\t10213_00_300_scale.png\n",
            "10040_00_250_gt.png\t10176_00_300_gt.png\t10217_00_100_gt.png\n",
            "10040_00_250_out.png\t10176_00_300_out.png\t10217_00_100_out.png\n",
            "10040_00_250_scale.png\t10176_00_300_scale.png\t10217_00_100_scale.png\n",
            "10045_00_100_gt.png\t10178_00_100_gt.png\t10217_00_250_gt.png\n",
            "10045_00_100_out.png\t10178_00_100_out.png\t10217_00_250_out.png\n",
            "10045_00_100_scale.png\t10178_00_100_scale.png\t10217_00_250_scale.png\n",
            "10045_00_250_gt.png\t10178_00_250_gt.png\t10217_00_300_gt.png\n",
            "10045_00_250_out.png\t10178_00_250_out.png\t10217_00_300_out.png\n",
            "10045_00_250_scale.png\t10178_00_250_scale.png\t10217_00_300_scale.png\n",
            "10054_00_100_gt.png\t10178_00_300_gt.png\t10226_00_100_gt.png\n",
            "10054_00_100_out.png\t10178_00_300_out.png\t10226_00_100_out.png\n",
            "10054_00_100_scale.png\t10178_00_300_scale.png\t10226_00_100_scale.png\n",
            "10054_00_250_gt.png\t10185_00_100_gt.png\t10226_00_250_gt.png\n",
            "10054_00_250_out.png\t10185_00_100_out.png\t10226_00_250_out.png\n",
            "10054_00_250_scale.png\t10185_00_100_scale.png\t10226_00_250_scale.png\n",
            "10055_00_100_gt.png\t10185_00_250_gt.png\t10226_00_300_gt.png\n",
            "10055_00_100_out.png\t10185_00_250_out.png\t10226_00_300_out.png\n",
            "10055_00_100_scale.png\t10185_00_250_scale.png\t10226_00_300_scale.png\n",
            "10055_00_250_gt.png\t10185_00_300_gt.png\t10227_00_100_gt.png\n",
            "10055_00_250_out.png\t10185_00_300_out.png\t10227_00_100_out.png\n",
            "10055_00_250_scale.png\t10185_00_300_scale.png\t10227_00_100_scale.png\n",
            "10068_00_100_gt.png\t10187_00_100_gt.png\t10227_00_250_gt.png\n",
            "10068_00_100_out.png\t10187_00_100_out.png\t10227_00_250_out.png\n",
            "10068_00_100_scale.png\t10187_00_100_scale.png\t10227_00_250_scale.png\n",
            "10068_00_250_gt.png\t10187_00_250_gt.png\t10227_00_300_gt.png\n",
            "10068_00_250_out.png\t10187_00_250_out.png\t10227_00_300_out.png\n",
            "10068_00_250_scale.png\t10187_00_250_scale.png\t10227_00_300_scale.png\n",
            "10069_00_100_gt.png\t10187_00_300_gt.png\t10228_00_100_gt.png\n",
            "10069_00_100_out.png\t10187_00_300_out.png\t10228_00_100_out.png\n",
            "10069_00_100_scale.png\t10187_00_300_scale.png\t10228_00_100_scale.png\n",
            "10069_00_250_gt.png\t10191_00_100_gt.png\t10228_00_250_gt.png\n",
            "10069_00_250_out.png\t10191_00_100_out.png\t10228_00_250_out.png\n",
            "10069_00_250_scale.png\t10191_00_100_scale.png\t10228_00_250_scale.png\n",
            "10074_00_300_gt.png\t10191_00_250_gt.png\t10228_00_300_gt.png\n",
            "10074_00_300_out.png\t10191_00_250_out.png\t10228_00_300_out.png\n",
            "10074_00_300_scale.png\t10191_00_250_scale.png\t10228_00_300_scale.png\n"
          ],
          "name": "stdout"
        }
      ]
    },
    {
      "metadata": {
        "id": "ZM8u9OGNDktR",
        "colab_type": "code",
        "colab": {}
      },
      "cell_type": "code",
      "source": [
        "import cv2 as cv\n",
        "import matplotlib.pyplot as plt\n",
        "import os.path\n",
        "\n",
        "def clearLabel(_ax):\n",
        "  _ax.tick_params(labelbottom=\"off\",bottom=\"off\")\n",
        "  _ax.tick_params(labelleft=\"off\",left=\"off\")\n",
        "  _ax.set_xticklabels([]) \n",
        "  _ax.axis('off')\n",
        "  return _ax\n",
        "\n",
        "def readImage(_filename):\n",
        "  if os.path.exists(_filename):\n",
        "    img = cv.imread(_filename)\n",
        "    return img\n",
        "\n",
        "img1 = readImage('result_Sony/final/10003_00_100_gt.png')\n",
        "img2 = readImage('result_Sony/final/10003_00_100_out.png')\n",
        "img3 = readImage('result_Sony/final/10003_00_100_scale.png')\n",
        "\n",
        "fig = plt.figure()\n",
        "\n",
        "ax1 = fig.add_subplot(1, 3, 1)\n",
        "clearLabel(ax1)\n",
        "show_img1 = cv.cvtColor(img1, cv.COLOR_BGR2RGB) \n",
        "plt.imshow(show_img1)\n",
        "\n",
        "ax2 = fig.add_subplot(1, 3, 2)\n",
        "clearLabel(ax2)\n",
        "show_img2 = cv.cvtColor(img2, cv.COLOR_BGR2RGB) \n",
        "plt.imshow(show_img2)\n",
        "\n",
        "ax3 = fig.add_subplot(1, 3, 3)\n",
        "clearLabel(ax3)\n",
        "show_img3 = cv.cvtColor(img3, cv.COLOR_BGR2RGB) \n",
        "plt.imshow(show_img3)\n",
        "\n",
        "plt.show()\n"
      ],
      "execution_count": 0,
      "outputs": []
    },
    {
      "metadata": {
        "id": "Rf2__R1mbAGu",
        "colab_type": "code",
        "colab": {}
      },
      "cell_type": "code",
      "source": [
        "!python train_Fuji.py"
      ],
      "execution_count": 0,
      "outputs": []
    },
    {
      "metadata": {
        "id": "geCOI-pd80ph",
        "colab_type": "code",
        "colab": {}
      },
      "cell_type": "code",
      "source": [
        "!python download_dataset.py"
      ],
      "execution_count": 0,
      "outputs": []
    },
    {
      "metadata": {
        "id": "YYA8nQcfa1v1",
        "colab_type": "code",
        "colab": {}
      },
      "cell_type": "code",
      "source": [
        "!ls /usr/local/lib/python3.6/dist-packages/tensorflow/python/training/"
      ],
      "execution_count": 0,
      "outputs": []
    },
    {
      "metadata": {
        "id": "OXvEpcZcBa_A",
        "colab_type": "code",
        "colab": {}
      },
      "cell_type": "code",
      "source": [
        "!mkdir tmpfs"
      ],
      "execution_count": 0,
      "outputs": []
    },
    {
      "metadata": {
        "id": "gY20knZt8lUs",
        "colab_type": "code",
        "colab": {
          "base_uri": "https://localhost:8080/",
          "height": 102
        },
        "outputId": "b8562218-bfd4-4f3f-b081-fe4ae9af9425"
      },
      "cell_type": "code",
      "source": [
        "!git clone https://github.com/cchen156/Learning-to-See-in-the-Dark.git"
      ],
      "execution_count": 4,
      "outputs": [
        {
          "output_type": "stream",
          "text": [
            "Cloning into 'Learning-to-See-in-the-Dark'...\n",
            "remote: Enumerating objects: 134, done.\u001b[K\n",
            "remote: Total 134 (delta 0), reused 0 (delta 0), pack-reused 134\u001b[K\n",
            "Receiving objects: 100% (134/134), 456.36 KiB | 126.00 KiB/s, done.\n",
            "Resolving deltas: 100% (73/73), done.\n"
          ],
          "name": "stdout"
        }
      ]
    },
    {
      "metadata": {
        "id": "-X4814XZCGUC",
        "colab_type": "code",
        "colab": {
          "base_uri": "https://localhost:8080/",
          "height": 68
        },
        "outputId": "4e5a9242-7924-417f-ec78-b985d187e416"
      },
      "cell_type": "code",
      "source": [
        "!ls"
      ],
      "execution_count": 6,
      "outputs": [
        {
          "output_type": "stream",
          "text": [
            "README.md           download_dataset.py test_Fuji.py        train_Sony.py\r\n",
            "\u001b[34mcheckpoint\u001b[m\u001b[m          download_models.py  test_Sony.py\r\n",
            "\u001b[34mdataset\u001b[m\u001b[m             \u001b[34mimages\u001b[m\u001b[m              train_Fuji.py\r\n"
          ],
          "name": "stdout"
        }
      ]
    },
    {
      "metadata": {
        "id": "msw_1279GcnR",
        "colab_type": "code",
        "colab": {}
      },
      "cell_type": "code",
      "source": [
        "!df -h /content/drive/My\\ Drive"
      ],
      "execution_count": 0,
      "outputs": []
    },
    {
      "metadata": {
        "id": "Ds45ZgerCCLv",
        "colab_type": "code",
        "colab": {}
      },
      "cell_type": "code",
      "source": [
        "!export TMPDIR=tmpfs"
      ],
      "execution_count": 0,
      "outputs": []
    },
    {
      "metadata": {
        "id": "X-1E8nv6LLHL",
        "colab_type": "code",
        "colab": {}
      },
      "cell_type": "code",
      "source": [
        "!git clone https://github.com/cchen156/Learning-to-See-in-the-Dark.git\n",
        "\n",
        "!pip install Tensorflow Scipy Numpy Rawpy\n",
        "\n",
        "!pip install Tensorflow Scipy Numpy Rawpy\n",
        "!ls Learning-to-See-in-the-Dark/\n",
        "%cd Learning-to-See-in-the-Dark/\n",
        "!python download_dataset.py"
      ],
      "execution_count": 0,
      "outputs": []
    }
  ]
}